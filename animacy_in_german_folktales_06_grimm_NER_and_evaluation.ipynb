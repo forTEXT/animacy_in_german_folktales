{
 "cells": [
  {
   "cell_type": "markdown",
   "metadata": {},
   "source": [
    "# Animacy in German Folktales\n",
    "\n",
    "This notebook contains the reproducible code examples and analyses for the paper *\"Animacy in German Folktales\"* submitted in proceedings of CHR 2024: Computational Humanities Research Conference, 2024, Aarhus, Denmark.\n",
    "\n",
    "**Authors:** Julian Häußler, Janis von Keitz, Evelyn Gius\n",
    "\n",
    "**Institution:** *fortext lab, Technical University of Darmstadt, Germany*\n",
    "\n",
    "**Reference:** Häußler, J., von Keitz, J., Gius, E. (2024). *Animacy in German Folktales*. CHR 2024: Computational Humanities Research Conference, December 4 – 6, 2024, Aarhus, Denmark. https://ceur-ws.org/Vol-3834/paper90.pdf.\n",
    "\n",
    "**GitHub Repository:** https://github.com/forTEXT/Animacy_in_German_Folktales"
   ]
  },
  {
   "cell_type": "markdown",
   "metadata": {},
   "source": [
    "## Notebook 06: Grimm NER and Evaluation"
   ]
  },
  {
   "cell_type": "code",
   "execution_count": null,
   "metadata": {},
   "outputs": [],
   "source": [
    "# Import libraries\n",
    "\n",
    "import pandas as pd\n",
    "import os \n",
    "import json\n",
    "import re"
   ]
  },
  {
   "cell_type": "code",
   "execution_count": 2,
   "metadata": {},
   "outputs": [
    {
     "name": "stderr",
     "output_type": "stream",
     "text": [
      "c:\\Users\\haeus\\AppData\\Local\\Programs\\Python\\Python311\\Lib\\site-packages\\tqdm\\auto.py:21: TqdmWarning: IProgress not found. Please update jupyter and ipywidgets. See https://ipywidgets.readthedocs.io/en/stable/user_install.html\n",
      "  from .autonotebook import tqdm as notebook_tqdm\n",
      "2024-07-10 22:25:18 INFO: Checking for updates to resources.json in case models have been updated.  Note: this behavior can be turned off with download_method=None or download_method=DownloadMethod.REUSE_RESOURCES\n",
      "Downloading https://raw.githubusercontent.com/stanfordnlp/stanza-resources/main/resources_1.8.0.json: 384kB [00:00, ?B/s]                        \n",
      "2024-07-10 22:25:19 INFO: Downloaded file to C:\\Users\\haeus\\stanza_resources\\resources.json\n",
      "2024-07-10 22:25:20 INFO: Loading these models for language: de (German):\n",
      "============================\n",
      "| Processor | Package      |\n",
      "----------------------------\n",
      "| tokenize  | gsd          |\n",
      "| ner       | germeval2014 |\n",
      "============================\n",
      "\n",
      "2024-07-10 22:25:20 INFO: Using device: cpu\n",
      "2024-07-10 22:25:20 INFO: Loading: tokenize\n",
      "2024-07-10 22:25:20 INFO: Loading: ner\n",
      "2024-07-10 22:25:23 INFO: Done loading processors!\n"
     ]
    }
   ],
   "source": [
    "import stanza\n",
    "\n",
    "nlp = stanza.Pipeline(lang='de', processors='tokenize,ner', tokenize_pretokenized=True)"
   ]
  },
  {
   "cell_type": "code",
   "execution_count": 3,
   "metadata": {},
   "outputs": [],
   "source": [
    "from nltk.tokenize import word_tokenize"
   ]
  },
  {
   "cell_type": "code",
   "execution_count": 4,
   "metadata": {},
   "outputs": [],
   "source": [
    "from nltk.tokenize import sent_tokenize"
   ]
  },
  {
   "cell_type": "code",
   "execution_count": null,
   "metadata": {},
   "outputs": [],
   "source": [
    "# Import data\n",
    "\n",
    "input_folder = '../Data/grimm_corpus'\n",
    "texts = []\n",
    "text_names = []\n",
    "for filename in os.listdir(input_folder):\n",
    "    file_path = os.path.join(input_folder, filename)\n",
    "    with open(file_path, 'r', encoding='utf-8') as f:\n",
    "        text = f.read()\n",
    "        sents = sent_tokenize(text)\n",
    "        tokens = [word_tokenize(sent) for sent in sents]\n",
    "        texts.append(tokens)\n",
    "        text_names.append(filename.replace('.txt', '').strip())"
   ]
  },
  {
   "cell_type": "code",
   "execution_count": 6,
   "metadata": {},
   "outputs": [
    {
     "data": {
      "text/plain": [
       "211"
      ]
     },
     "execution_count": 6,
     "metadata": {},
     "output_type": "execute_result"
    }
   ],
   "source": [
    "len(texts)"
   ]
  },
  {
   "cell_type": "code",
   "execution_count": 8,
   "metadata": {},
   "outputs": [
    {
     "data": {
      "text/plain": [
       "[['Allerleirauh', '.'],\n",
       " ['Es',\n",
       "  'war',\n",
       "  'einmal',\n",
       "  'ein',\n",
       "  'König',\n",
       "  ',',\n",
       "  'der',\n",
       "  'hatte',\n",
       "  'eine',\n",
       "  'Frau',\n",
       "  'mit',\n",
       "  'goldenen',\n",
       "  'Haaren',\n",
       "  ',',\n",
       "  'und',\n",
       "  'sie',\n",
       "  'war',\n",
       "  'so',\n",
       "  'schön',\n",
       "  ',',\n",
       "  'daß',\n",
       "  'sich',\n",
       "  'ihres',\n",
       "  'Gleichen',\n",
       "  'nicht',\n",
       "  'mehr',\n",
       "  'auf',\n",
       "  'Erden',\n",
       "  'fand',\n",
       "  '.'],\n",
       " ['Es',\n",
       "  'geschah',\n",
       "  ',',\n",
       "  'daß',\n",
       "  'sie',\n",
       "  'krank',\n",
       "  'lag',\n",
       "  ',',\n",
       "  'und',\n",
       "  'als',\n",
       "  'sie',\n",
       "  'fühlte',\n",
       "  'daß',\n",
       "  'sie',\n",
       "  'bald',\n",
       "  'sterben',\n",
       "  'würde',\n",
       "  ',',\n",
       "  'rief',\n",
       "  'sie',\n",
       "  'den',\n",
       "  'König',\n",
       "  'und',\n",
       "  'sprach',\n",
       "  '„',\n",
       "  'wenn',\n",
       "  'du',\n",
       "  'nach',\n",
       "  'meinem',\n",
       "  'Tode',\n",
       "  'dich',\n",
       "  'wieder',\n",
       "  'vermählen',\n",
       "  'willst',\n",
       "  ',',\n",
       "  'so',\n",
       "  'nimm',\n",
       "  'keine',\n",
       "  ',',\n",
       "  'die',\n",
       "  'nicht',\n",
       "  'eben',\n",
       "  'so',\n",
       "  'schön',\n",
       "  'ist',\n",
       "  ',',\n",
       "  'als',\n",
       "  'ich',\n",
       "  'bin',\n",
       "  ',',\n",
       "  'und',\n",
       "  'die',\n",
       "  'nicht',\n",
       "  'solche',\n",
       "  'goldene',\n",
       "  'Haare',\n",
       "  'hat',\n",
       "  ',',\n",
       "  'wie',\n",
       "  'ich',\n",
       "  'habe',\n",
       "  ';',\n",
       "  'das',\n",
       "  'mußt',\n",
       "  'du',\n",
       "  'mir',\n",
       "  'versprechen.',\n",
       "  '“',\n",
       "  'Nachdem',\n",
       "  'es',\n",
       "  'ihr',\n",
       "  'der',\n",
       "  'König',\n",
       "  'versprochen',\n",
       "  'hatte',\n",
       "  ',',\n",
       "  'that',\n",
       "  'sie',\n",
       "  'die',\n",
       "  'Augen',\n",
       "  'zu',\n",
       "  'und',\n",
       "  'starb',\n",
       "  '.']]"
      ]
     },
     "execution_count": 8,
     "metadata": {},
     "output_type": "execute_result"
    }
   ],
   "source": [
    "texts[0][:3]"
   ]
  },
  {
   "cell_type": "code",
   "execution_count": 9,
   "metadata": {},
   "outputs": [
    {
     "data": {
      "text/plain": [
       "57"
      ]
     },
     "execution_count": 9,
     "metadata": {},
     "output_type": "execute_result"
    }
   ],
   "source": [
    "len(texts[0])"
   ]
  },
  {
   "cell_type": "code",
   "execution_count": null,
   "metadata": {},
   "outputs": [],
   "source": [
    "# Perform NER\n",
    "\n",
    "texts_ner_tags = []\n",
    "\n",
    "for text in texts:\n",
    "    doc = nlp(text)\n",
    "    text_ner_tags = []\n",
    "\n",
    "    for i, sentence in enumerate(doc.sentences):\n",
    "        sent = [token.ner for token in sentence.tokens]\n",
    "        text_ner_tags.append(sent)\n",
    "    \n",
    "    texts_ner_tags.append(text_ner_tags)"
   ]
  },
  {
   "cell_type": "code",
   "execution_count": 11,
   "metadata": {},
   "outputs": [
    {
     "data": {
      "text/plain": [
       "211"
      ]
     },
     "execution_count": 11,
     "metadata": {},
     "output_type": "execute_result"
    }
   ],
   "source": [
    "len(texts_ner_tags)"
   ]
  },
  {
   "cell_type": "code",
   "execution_count": 12,
   "metadata": {},
   "outputs": [
    {
     "data": {
      "text/plain": [
       "[['S-PER', 'O'],\n",
       " ['O',\n",
       "  'O',\n",
       "  'O',\n",
       "  'O',\n",
       "  'O',\n",
       "  'O',\n",
       "  'O',\n",
       "  'O',\n",
       "  'O',\n",
       "  'O',\n",
       "  'O',\n",
       "  'O',\n",
       "  'O',\n",
       "  'O',\n",
       "  'O',\n",
       "  'O',\n",
       "  'O',\n",
       "  'O',\n",
       "  'O',\n",
       "  'O',\n",
       "  'O',\n",
       "  'O',\n",
       "  'O',\n",
       "  'O',\n",
       "  'O',\n",
       "  'O',\n",
       "  'O',\n",
       "  'O',\n",
       "  'O',\n",
       "  'O'],\n",
       " ['O',\n",
       "  'O',\n",
       "  'O',\n",
       "  'O',\n",
       "  'O',\n",
       "  'O',\n",
       "  'O',\n",
       "  'O',\n",
       "  'O',\n",
       "  'O',\n",
       "  'O',\n",
       "  'O',\n",
       "  'O',\n",
       "  'O',\n",
       "  'O',\n",
       "  'O',\n",
       "  'O',\n",
       "  'O',\n",
       "  'O',\n",
       "  'O',\n",
       "  'O',\n",
       "  'O',\n",
       "  'O',\n",
       "  'O',\n",
       "  'O',\n",
       "  'O',\n",
       "  'O',\n",
       "  'O',\n",
       "  'O',\n",
       "  'O',\n",
       "  'O',\n",
       "  'O',\n",
       "  'O',\n",
       "  'O',\n",
       "  'O',\n",
       "  'O',\n",
       "  'O',\n",
       "  'O',\n",
       "  'O',\n",
       "  'O',\n",
       "  'O',\n",
       "  'O',\n",
       "  'O',\n",
       "  'O',\n",
       "  'O',\n",
       "  'O',\n",
       "  'O',\n",
       "  'O',\n",
       "  'O',\n",
       "  'O',\n",
       "  'O',\n",
       "  'O',\n",
       "  'O',\n",
       "  'O',\n",
       "  'O',\n",
       "  'O',\n",
       "  'O',\n",
       "  'O',\n",
       "  'O',\n",
       "  'O',\n",
       "  'O',\n",
       "  'O',\n",
       "  'O',\n",
       "  'O',\n",
       "  'O',\n",
       "  'O',\n",
       "  'O',\n",
       "  'O',\n",
       "  'O',\n",
       "  'O',\n",
       "  'O',\n",
       "  'O',\n",
       "  'O',\n",
       "  'O',\n",
       "  'O',\n",
       "  'O',\n",
       "  'O',\n",
       "  'O',\n",
       "  'O',\n",
       "  'O',\n",
       "  'O',\n",
       "  'O',\n",
       "  'O',\n",
       "  'O']]"
      ]
     },
     "execution_count": 12,
     "metadata": {},
     "output_type": "execute_result"
    }
   ],
   "source": [
    "texts_ner_tags[0][:3]"
   ]
  },
  {
   "cell_type": "code",
   "execution_count": 13,
   "metadata": {},
   "outputs": [
    {
     "data": {
      "text/plain": [
       "57"
      ]
     },
     "execution_count": 13,
     "metadata": {},
     "output_type": "execute_result"
    }
   ],
   "source": [
    "len(texts_ner_tags[0])"
   ]
  },
  {
   "cell_type": "code",
   "execution_count": 14,
   "metadata": {},
   "outputs": [
    {
     "data": {
      "text/plain": [
       "17"
      ]
     },
     "execution_count": 14,
     "metadata": {},
     "output_type": "execute_result"
    }
   ],
   "source": [
    "len(texts_ner_tags[1])"
   ]
  },
  {
   "cell_type": "code",
   "execution_count": 15,
   "metadata": {},
   "outputs": [
    {
     "data": {
      "text/plain": [
       "57"
      ]
     },
     "execution_count": 15,
     "metadata": {},
     "output_type": "execute_result"
    }
   ],
   "source": [
    "len(texts[0])"
   ]
  },
  {
   "cell_type": "code",
   "execution_count": 16,
   "metadata": {},
   "outputs": [
    {
     "data": {
      "text/plain": [
       "17"
      ]
     },
     "execution_count": 16,
     "metadata": {},
     "output_type": "execute_result"
    }
   ],
   "source": [
    "len(texts[1])"
   ]
  },
  {
   "cell_type": "code",
   "execution_count": null,
   "metadata": {},
   "outputs": [],
   "source": [
    "# Create dataframe\n",
    "\n",
    "ner_pers_tags = ['B-PER','I-PER','O-PER','E-PER','S-PER']"
   ]
  },
  {
   "cell_type": "code",
   "execution_count": 31,
   "metadata": {},
   "outputs": [],
   "source": [
    "df_grimm_ner = pd.DataFrame(columns=['title', 'absolute_PER_frequency', 'relative_PER_frequency'])"
   ]
  },
  {
   "cell_type": "code",
   "execution_count": 32,
   "metadata": {},
   "outputs": [
    {
     "data": {
      "text/plain": [
       "211"
      ]
     },
     "execution_count": 32,
     "metadata": {},
     "output_type": "execute_result"
    }
   ],
   "source": [
    "len(text_names)"
   ]
  },
  {
   "cell_type": "code",
   "execution_count": 33,
   "metadata": {},
   "outputs": [
    {
     "data": {
      "text/html": [
       "<div>\n",
       "<style scoped>\n",
       "    .dataframe tbody tr th:only-of-type {\n",
       "        vertical-align: middle;\n",
       "    }\n",
       "\n",
       "    .dataframe tbody tr th {\n",
       "        vertical-align: top;\n",
       "    }\n",
       "\n",
       "    .dataframe thead th {\n",
       "        text-align: right;\n",
       "    }\n",
       "</style>\n",
       "<table border=\"1\" class=\"dataframe\">\n",
       "  <thead>\n",
       "    <tr style=\"text-align: right;\">\n",
       "      <th></th>\n",
       "      <th>title</th>\n",
       "      <th>absolute_PER_frequency</th>\n",
       "      <th>relative_PER_frequency</th>\n",
       "    </tr>\n",
       "  </thead>\n",
       "  <tbody>\n",
       "  </tbody>\n",
       "</table>\n",
       "</div>"
      ],
      "text/plain": [
       "Empty DataFrame\n",
       "Columns: [title, absolute_PER_frequency, relative_PER_frequency]\n",
       "Index: []"
      ]
     },
     "execution_count": 33,
     "metadata": {},
     "output_type": "execute_result"
    }
   ],
   "source": [
    "df_grimm_ner.head()"
   ]
  },
  {
   "cell_type": "code",
   "execution_count": 46,
   "metadata": {},
   "outputs": [],
   "source": [
    "for i in range(0,len(texts_ner_tags)):\n",
    "    df_grimm_ner.at[i,'title'] = text_names[i]\n",
    "    \n",
    "    tags = [tag for sent in texts_ner_tags[i] for tag in sent]\n",
    "\n",
    "    abs_freq = 0\n",
    "\n",
    "    for tag in ner_pers_tags:\n",
    "        abs_freq += tags.count(tag)\n",
    "\n",
    "    df_grimm_ner.at[i,'absolute_PER_frequency'] = abs_freq\n",
    "\n",
    "    df_grimm_ner.at[i,'relative_PER_frequency'] = abs_freq/len(texts_ner_tags[i])"
   ]
  },
  {
   "cell_type": "code",
   "execution_count": 47,
   "metadata": {},
   "outputs": [
    {
     "data": {
      "text/html": [
       "<div>\n",
       "<style scoped>\n",
       "    .dataframe tbody tr th:only-of-type {\n",
       "        vertical-align: middle;\n",
       "    }\n",
       "\n",
       "    .dataframe tbody tr th {\n",
       "        vertical-align: top;\n",
       "    }\n",
       "\n",
       "    .dataframe thead th {\n",
       "        text-align: right;\n",
       "    }\n",
       "</style>\n",
       "<table border=\"1\" class=\"dataframe\">\n",
       "  <thead>\n",
       "    <tr style=\"text-align: right;\">\n",
       "      <th></th>\n",
       "      <th>title</th>\n",
       "      <th>absolute_PER_frequency</th>\n",
       "      <th>relative_PER_frequency</th>\n",
       "    </tr>\n",
       "  </thead>\n",
       "  <tbody>\n",
       "    <tr>\n",
       "      <th>0</th>\n",
       "      <td>Allerleirauh (1857)</td>\n",
       "      <td>17</td>\n",
       "      <td>0.298246</td>\n",
       "    </tr>\n",
       "    <tr>\n",
       "      <th>1</th>\n",
       "      <td>Armuth und Demuth führen zum Himmel (1857)</td>\n",
       "      <td>4</td>\n",
       "      <td>0.235294</td>\n",
       "    </tr>\n",
       "    <tr>\n",
       "      <th>2</th>\n",
       "      <td>Aschenputtel (1857)</td>\n",
       "      <td>9</td>\n",
       "      <td>0.12</td>\n",
       "    </tr>\n",
       "    <tr>\n",
       "      <th>3</th>\n",
       "      <td>Bruder Lustig (1857)</td>\n",
       "      <td>106</td>\n",
       "      <td>0.726027</td>\n",
       "    </tr>\n",
       "    <tr>\n",
       "      <th>4</th>\n",
       "      <td>Brüderchen und Schwesterchen (1857)</td>\n",
       "      <td>7</td>\n",
       "      <td>0.111111</td>\n",
       "    </tr>\n",
       "  </tbody>\n",
       "</table>\n",
       "</div>"
      ],
      "text/plain": [
       "                                        title absolute_PER_frequency  \\\n",
       "0                         Allerleirauh (1857)                     17   \n",
       "1  Armuth und Demuth führen zum Himmel (1857)                      4   \n",
       "2                         Aschenputtel (1857)                      9   \n",
       "3                        Bruder Lustig (1857)                    106   \n",
       "4         Brüderchen und Schwesterchen (1857)                      7   \n",
       "\n",
       "  relative_PER_frequency  \n",
       "0               0.298246  \n",
       "1               0.235294  \n",
       "2                   0.12  \n",
       "3               0.726027  \n",
       "4               0.111111  "
      ]
     },
     "execution_count": 47,
     "metadata": {},
     "output_type": "execute_result"
    }
   ],
   "source": [
    "df_grimm_ner.head()"
   ]
  },
  {
   "cell_type": "code",
   "execution_count": 48,
   "metadata": {},
   "outputs": [
    {
     "data": {
      "text/html": [
       "<div>\n",
       "<style scoped>\n",
       "    .dataframe tbody tr th:only-of-type {\n",
       "        vertical-align: middle;\n",
       "    }\n",
       "\n",
       "    .dataframe tbody tr th {\n",
       "        vertical-align: top;\n",
       "    }\n",
       "\n",
       "    .dataframe thead th {\n",
       "        text-align: right;\n",
       "    }\n",
       "</style>\n",
       "<table border=\"1\" class=\"dataframe\">\n",
       "  <thead>\n",
       "    <tr style=\"text-align: right;\">\n",
       "      <th></th>\n",
       "      <th>title</th>\n",
       "      <th>absolute_PER_frequency</th>\n",
       "      <th>relative_PER_frequency</th>\n",
       "    </tr>\n",
       "  </thead>\n",
       "  <tbody>\n",
       "    <tr>\n",
       "      <th>206</th>\n",
       "      <td>Vom klugen Schneiderlein (1857)</td>\n",
       "      <td>4</td>\n",
       "      <td>0.125</td>\n",
       "    </tr>\n",
       "    <tr>\n",
       "      <th>207</th>\n",
       "      <td>Von dem Fischer un syner Fru (1857)</td>\n",
       "      <td>49</td>\n",
       "      <td>0.653333</td>\n",
       "    </tr>\n",
       "    <tr>\n",
       "      <th>208</th>\n",
       "      <td>Von dem Machandelboom (1857)</td>\n",
       "      <td>54</td>\n",
       "      <td>0.830769</td>\n",
       "    </tr>\n",
       "    <tr>\n",
       "      <th>209</th>\n",
       "      <td>Von dem Mäuschen, Vögelchen und der Bratwurst ...</td>\n",
       "      <td>3</td>\n",
       "      <td>0.130435</td>\n",
       "    </tr>\n",
       "    <tr>\n",
       "      <th>210</th>\n",
       "      <td>Von dem Tode des Hühnchens (1857)</td>\n",
       "      <td>1</td>\n",
       "      <td>0.066667</td>\n",
       "    </tr>\n",
       "  </tbody>\n",
       "</table>\n",
       "</div>"
      ],
      "text/plain": [
       "                                                 title absolute_PER_frequency  \\\n",
       "206                    Vom klugen Schneiderlein (1857)                      4   \n",
       "207                Von dem Fischer un syner Fru (1857)                     49   \n",
       "208                       Von dem Machandelboom (1857)                     54   \n",
       "209  Von dem Mäuschen, Vögelchen und der Bratwurst ...                      3   \n",
       "210                  Von dem Tode des Hühnchens (1857)                      1   \n",
       "\n",
       "    relative_PER_frequency  \n",
       "206                  0.125  \n",
       "207               0.653333  \n",
       "208               0.830769  \n",
       "209               0.130435  \n",
       "210               0.066667  "
      ]
     },
     "execution_count": 48,
     "metadata": {},
     "output_type": "execute_result"
    }
   ],
   "source": [
    "df_grimm_ner.tail()"
   ]
  },
  {
   "cell_type": "code",
   "execution_count": null,
   "metadata": {},
   "outputs": [],
   "source": [
    "# Load data\n",
    "\n",
    "input_folder = '../Data'"
   ]
  },
  {
   "cell_type": "code",
   "execution_count": 50,
   "metadata": {},
   "outputs": [],
   "source": [
    "df_grimm_animacy = pd.read_csv(os.path.join(input_folder,'grimm_corpus_animacy.csv'),index_col=0)"
   ]
  },
  {
   "cell_type": "code",
   "execution_count": 51,
   "metadata": {},
   "outputs": [
    {
     "data": {
      "text/html": [
       "<div>\n",
       "<style scoped>\n",
       "    .dataframe tbody tr th:only-of-type {\n",
       "        vertical-align: middle;\n",
       "    }\n",
       "\n",
       "    .dataframe tbody tr th {\n",
       "        vertical-align: top;\n",
       "    }\n",
       "\n",
       "    .dataframe thead th {\n",
       "        text-align: right;\n",
       "    }\n",
       "</style>\n",
       "<table border=\"1\" class=\"dataframe\">\n",
       "  <thead>\n",
       "    <tr style=\"text-align: right;\">\n",
       "      <th></th>\n",
       "      <th>title</th>\n",
       "      <th>absolute_animacy_frequency</th>\n",
       "      <th>relative_animacy_frequency</th>\n",
       "    </tr>\n",
       "  </thead>\n",
       "  <tbody>\n",
       "    <tr>\n",
       "      <th>0</th>\n",
       "      <td>Allerleirauh (1857)</td>\n",
       "      <td>392</td>\n",
       "      <td>0.167808</td>\n",
       "    </tr>\n",
       "    <tr>\n",
       "      <th>1</th>\n",
       "      <td>Armuth und Demuth führen zum Himmel (1857)</td>\n",
       "      <td>84</td>\n",
       "      <td>0.161228</td>\n",
       "    </tr>\n",
       "    <tr>\n",
       "      <th>2</th>\n",
       "      <td>Aschenputtel (1857)</td>\n",
       "      <td>472</td>\n",
       "      <td>0.166902</td>\n",
       "    </tr>\n",
       "    <tr>\n",
       "      <th>3</th>\n",
       "      <td>Bruder Lustig (1857)</td>\n",
       "      <td>769</td>\n",
       "      <td>0.162786</td>\n",
       "    </tr>\n",
       "    <tr>\n",
       "      <th>4</th>\n",
       "      <td>Brüderchen und Schwesterchen (1857)</td>\n",
       "      <td>565</td>\n",
       "      <td>0.214096</td>\n",
       "    </tr>\n",
       "  </tbody>\n",
       "</table>\n",
       "</div>"
      ],
      "text/plain": [
       "                                        title  absolute_animacy_frequency  \\\n",
       "0                         Allerleirauh (1857)                         392   \n",
       "1  Armuth und Demuth führen zum Himmel (1857)                          84   \n",
       "2                         Aschenputtel (1857)                         472   \n",
       "3                        Bruder Lustig (1857)                         769   \n",
       "4         Brüderchen und Schwesterchen (1857)                         565   \n",
       "\n",
       "   relative_animacy_frequency  \n",
       "0                    0.167808  \n",
       "1                    0.161228  \n",
       "2                    0.166902  \n",
       "3                    0.162786  \n",
       "4                    0.214096  "
      ]
     },
     "execution_count": 51,
     "metadata": {},
     "output_type": "execute_result"
    }
   ],
   "source": [
    "df_grimm_animacy.head()"
   ]
  },
  {
   "cell_type": "code",
   "execution_count": 52,
   "metadata": {},
   "outputs": [
    {
     "data": {
      "text/html": [
       "<div>\n",
       "<style scoped>\n",
       "    .dataframe tbody tr th:only-of-type {\n",
       "        vertical-align: middle;\n",
       "    }\n",
       "\n",
       "    .dataframe tbody tr th {\n",
       "        vertical-align: top;\n",
       "    }\n",
       "\n",
       "    .dataframe thead th {\n",
       "        text-align: right;\n",
       "    }\n",
       "</style>\n",
       "<table border=\"1\" class=\"dataframe\">\n",
       "  <thead>\n",
       "    <tr style=\"text-align: right;\">\n",
       "      <th></th>\n",
       "      <th>title</th>\n",
       "      <th>absolute_animacy_frequency</th>\n",
       "      <th>relative_animacy_frequency</th>\n",
       "    </tr>\n",
       "  </thead>\n",
       "  <tbody>\n",
       "    <tr>\n",
       "      <th>206</th>\n",
       "      <td>Vom klugen Schneiderlein (1857)</td>\n",
       "      <td>206</td>\n",
       "      <td>0.159690</td>\n",
       "    </tr>\n",
       "    <tr>\n",
       "      <th>207</th>\n",
       "      <td>Von dem Fischer un syner Fru (1857)</td>\n",
       "      <td>210</td>\n",
       "      <td>0.055263</td>\n",
       "    </tr>\n",
       "    <tr>\n",
       "      <th>208</th>\n",
       "      <td>Von dem Machandelboom (1857)</td>\n",
       "      <td>173</td>\n",
       "      <td>0.046406</td>\n",
       "    </tr>\n",
       "    <tr>\n",
       "      <th>209</th>\n",
       "      <td>Von dem Mäuschen, Vögelchen und der Bratwurst ...</td>\n",
       "      <td>67</td>\n",
       "      <td>0.101979</td>\n",
       "    </tr>\n",
       "    <tr>\n",
       "      <th>210</th>\n",
       "      <td>Von dem Tode des Hühnchens (1857)</td>\n",
       "      <td>149</td>\n",
       "      <td>0.209859</td>\n",
       "    </tr>\n",
       "  </tbody>\n",
       "</table>\n",
       "</div>"
      ],
      "text/plain": [
       "                                                 title  \\\n",
       "206                    Vom klugen Schneiderlein (1857)   \n",
       "207                Von dem Fischer un syner Fru (1857)   \n",
       "208                       Von dem Machandelboom (1857)   \n",
       "209  Von dem Mäuschen, Vögelchen und der Bratwurst ...   \n",
       "210                  Von dem Tode des Hühnchens (1857)   \n",
       "\n",
       "     absolute_animacy_frequency  relative_animacy_frequency  \n",
       "206                         206                    0.159690  \n",
       "207                         210                    0.055263  \n",
       "208                         173                    0.046406  \n",
       "209                          67                    0.101979  \n",
       "210                         149                    0.209859  "
      ]
     },
     "execution_count": 52,
     "metadata": {},
     "output_type": "execute_result"
    }
   ],
   "source": [
    "df_grimm_animacy.tail()"
   ]
  },
  {
   "cell_type": "code",
   "execution_count": null,
   "metadata": {},
   "outputs": [],
   "source": [
    "# Measure correllation\n",
    "\n",
    "lst_rel_PER = df_grimm_ner['relative_PER_frequency'].to_list()\n",
    "\n",
    "lst_rel_animacy = df_grimm_animacy['relative_animacy_frequency'].to_list()\n"
   ]
  },
  {
   "cell_type": "code",
   "execution_count": 55,
   "metadata": {},
   "outputs": [
    {
     "data": {
      "text/plain": [
       "211"
      ]
     },
     "execution_count": 55,
     "metadata": {},
     "output_type": "execute_result"
    }
   ],
   "source": [
    "len(lst_rel_PER)"
   ]
  },
  {
   "cell_type": "code",
   "execution_count": 56,
   "metadata": {},
   "outputs": [
    {
     "data": {
      "text/plain": [
       "211"
      ]
     },
     "execution_count": 56,
     "metadata": {},
     "output_type": "execute_result"
    }
   ],
   "source": [
    "len(lst_rel_animacy)"
   ]
  },
  {
   "cell_type": "code",
   "execution_count": 57,
   "metadata": {},
   "outputs": [],
   "source": [
    "from scipy.stats import pearsonr"
   ]
  },
  {
   "cell_type": "code",
   "execution_count": 58,
   "metadata": {},
   "outputs": [
    {
     "name": "stdout",
     "output_type": "stream",
     "text": [
      "Pearsons correlation: -0.132\n"
     ]
    }
   ],
   "source": [
    "corr, _ = pearsonr(lst_rel_PER, lst_rel_animacy)\n",
    "print('Pearsons correlation: %.3f' % corr)"
   ]
  },
  {
   "cell_type": "code",
   "execution_count": 59,
   "metadata": {},
   "outputs": [],
   "source": [
    "from scipy.stats import spearmanr"
   ]
  },
  {
   "cell_type": "code",
   "execution_count": 60,
   "metadata": {},
   "outputs": [
    {
     "name": "stdout",
     "output_type": "stream",
     "text": [
      "Spearmans correlation: -0.195\n"
     ]
    }
   ],
   "source": [
    "corr, _ = spearmanr(lst_rel_PER, lst_rel_animacy)\n",
    "print('Spearmans correlation: %.3f' % corr)"
   ]
  },
  {
   "cell_type": "code",
   "execution_count": null,
   "metadata": {},
   "outputs": [],
   "source": [
    "# Save data\n",
    "\n",
    "import json"
   ]
  },
  {
   "cell_type": "code",
   "execution_count": null,
   "metadata": {},
   "outputs": [],
   "source": [
    "texts_token_ner = []\n",
    "\n",
    "for i in range(0,len(texts)):\n",
    "    text_tokens = texts[i]\n",
    "    text_ner_tags = texts_ner_tags[i]\n",
    "\n",
    "    text_tokens_ner = []\n",
    "\n",
    "    for j in range(0,len(text_tokens)):\n",
    "        s\n",
    "        for k in r"
   ]
  },
  {
   "cell_type": "code",
   "execution_count": 62,
   "metadata": {},
   "outputs": [],
   "source": [
    "zipped_texts = [\n",
    "    [\n",
    "        [[token, tag] for token, tag in zip(sentence, tag_sentence)]\n",
    "        for sentence, tag_sentence in zip(text, tag_text)\n",
    "    ]\n",
    "    for text, tag_text in zip(texts, texts_ner_tags)\n",
    "]"
   ]
  },
  {
   "cell_type": "code",
   "execution_count": 63,
   "metadata": {},
   "outputs": [
    {
     "data": {
      "text/plain": [
       "211"
      ]
     },
     "execution_count": 63,
     "metadata": {},
     "output_type": "execute_result"
    }
   ],
   "source": [
    "len(zipped_texts)"
   ]
  },
  {
   "cell_type": "code",
   "execution_count": 65,
   "metadata": {},
   "outputs": [
    {
     "data": {
      "text/plain": [
       "[[['Allerleirauh', 'S-PER'], ['.', 'O']],\n",
       " [['Es', 'O'],\n",
       "  ['war', 'O'],\n",
       "  ['einmal', 'O'],\n",
       "  ['ein', 'O'],\n",
       "  ['König', 'O'],\n",
       "  [',', 'O'],\n",
       "  ['der', 'O'],\n",
       "  ['hatte', 'O'],\n",
       "  ['eine', 'O'],\n",
       "  ['Frau', 'O'],\n",
       "  ['mit', 'O'],\n",
       "  ['goldenen', 'O'],\n",
       "  ['Haaren', 'O'],\n",
       "  [',', 'O'],\n",
       "  ['und', 'O'],\n",
       "  ['sie', 'O'],\n",
       "  ['war', 'O'],\n",
       "  ['so', 'O'],\n",
       "  ['schön', 'O'],\n",
       "  [',', 'O'],\n",
       "  ['daß', 'O'],\n",
       "  ['sich', 'O'],\n",
       "  ['ihres', 'O'],\n",
       "  ['Gleichen', 'O'],\n",
       "  ['nicht', 'O'],\n",
       "  ['mehr', 'O'],\n",
       "  ['auf', 'O'],\n",
       "  ['Erden', 'O'],\n",
       "  ['fand', 'O'],\n",
       "  ['.', 'O']],\n",
       " [['Es', 'O'],\n",
       "  ['geschah', 'O'],\n",
       "  [',', 'O'],\n",
       "  ['daß', 'O'],\n",
       "  ['sie', 'O'],\n",
       "  ['krank', 'O'],\n",
       "  ['lag', 'O'],\n",
       "  [',', 'O'],\n",
       "  ['und', 'O'],\n",
       "  ['als', 'O'],\n",
       "  ['sie', 'O'],\n",
       "  ['fühlte', 'O'],\n",
       "  ['daß', 'O'],\n",
       "  ['sie', 'O'],\n",
       "  ['bald', 'O'],\n",
       "  ['sterben', 'O'],\n",
       "  ['würde', 'O'],\n",
       "  [',', 'O'],\n",
       "  ['rief', 'O'],\n",
       "  ['sie', 'O'],\n",
       "  ['den', 'O'],\n",
       "  ['König', 'O'],\n",
       "  ['und', 'O'],\n",
       "  ['sprach', 'O'],\n",
       "  ['„', 'O'],\n",
       "  ['wenn', 'O'],\n",
       "  ['du', 'O'],\n",
       "  ['nach', 'O'],\n",
       "  ['meinem', 'O'],\n",
       "  ['Tode', 'O'],\n",
       "  ['dich', 'O'],\n",
       "  ['wieder', 'O'],\n",
       "  ['vermählen', 'O'],\n",
       "  ['willst', 'O'],\n",
       "  [',', 'O'],\n",
       "  ['so', 'O'],\n",
       "  ['nimm', 'O'],\n",
       "  ['keine', 'O'],\n",
       "  [',', 'O'],\n",
       "  ['die', 'O'],\n",
       "  ['nicht', 'O'],\n",
       "  ['eben', 'O'],\n",
       "  ['so', 'O'],\n",
       "  ['schön', 'O'],\n",
       "  ['ist', 'O'],\n",
       "  [',', 'O'],\n",
       "  ['als', 'O'],\n",
       "  ['ich', 'O'],\n",
       "  ['bin', 'O'],\n",
       "  [',', 'O'],\n",
       "  ['und', 'O'],\n",
       "  ['die', 'O'],\n",
       "  ['nicht', 'O'],\n",
       "  ['solche', 'O'],\n",
       "  ['goldene', 'O'],\n",
       "  ['Haare', 'O'],\n",
       "  ['hat', 'O'],\n",
       "  [',', 'O'],\n",
       "  ['wie', 'O'],\n",
       "  ['ich', 'O'],\n",
       "  ['habe', 'O'],\n",
       "  [';', 'O'],\n",
       "  ['das', 'O'],\n",
       "  ['mußt', 'O'],\n",
       "  ['du', 'O'],\n",
       "  ['mir', 'O'],\n",
       "  ['versprechen.', 'O'],\n",
       "  ['“', 'O'],\n",
       "  ['Nachdem', 'O'],\n",
       "  ['es', 'O'],\n",
       "  ['ihr', 'O'],\n",
       "  ['der', 'O'],\n",
       "  ['König', 'O'],\n",
       "  ['versprochen', 'O'],\n",
       "  ['hatte', 'O'],\n",
       "  [',', 'O'],\n",
       "  ['that', 'O'],\n",
       "  ['sie', 'O'],\n",
       "  ['die', 'O'],\n",
       "  ['Augen', 'O'],\n",
       "  ['zu', 'O'],\n",
       "  ['und', 'O'],\n",
       "  ['starb', 'O'],\n",
       "  ['.', 'O']]]"
      ]
     },
     "execution_count": 65,
     "metadata": {},
     "output_type": "execute_result"
    }
   ],
   "source": [
    "zipped_texts[0][:3]"
   ]
  },
  {
   "cell_type": "code",
   "execution_count": 66,
   "metadata": {},
   "outputs": [
    {
     "data": {
      "text/plain": [
       "57"
      ]
     },
     "execution_count": 66,
     "metadata": {},
     "output_type": "execute_result"
    }
   ],
   "source": [
    "len(zipped_texts[0])"
   ]
  },
  {
   "cell_type": "code",
   "execution_count": 68,
   "metadata": {},
   "outputs": [],
   "source": [
    "for i in range(0,len(text_names)):\n",
    "\n",
    "    filepath = f'../Data/grimm_corpus_annotations_ner/{text_names[i]}_annotated_ner.json'\n",
    "\n",
    "    with open(filepath, 'w', encoding='utf-8') as f:\n",
    "        json.dump(zipped_texts[i], f, ensure_ascii=False)"
   ]
  },
  {
   "cell_type": "code",
   "execution_count": 69,
   "metadata": {},
   "outputs": [],
   "source": [
    "df_grimm_ner.to_csv('../Data/grimm_corpus_ner.csv', encoding='utf-8-sig')"
   ]
  }
 ],
 "metadata": {
  "kernelspec": {
   "display_name": "Python 3",
   "language": "python",
   "name": "python3"
  },
  "language_info": {
   "codemirror_mode": {
    "name": "ipython",
    "version": 3
   },
   "file_extension": ".py",
   "mimetype": "text/x-python",
   "name": "python",
   "nbconvert_exporter": "python",
   "pygments_lexer": "ipython3",
   "version": "3.11.4"
  }
 },
 "nbformat": 4,
 "nbformat_minor": 2
}
